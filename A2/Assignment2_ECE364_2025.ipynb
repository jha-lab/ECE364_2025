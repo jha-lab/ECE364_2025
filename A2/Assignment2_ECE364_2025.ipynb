{
  "cells": [
    {
      "cell_type": "markdown",
      "metadata": {
        "id": "E32UBMT7VKMm"
      },
      "source": [
        "## Prepare python environment\n"
      ]
    },
    {
      "cell_type": "code",
      "execution_count": null,
      "metadata": {
        "id": "y_lm7Q-9VKMn"
      },
      "outputs": [],
      "source": [
        "import pandas as pd\n",
        "import numpy as np\n",
        "import matplotlib.pyplot as plt\n",
        "import seaborn as sns\n",
        "from sklearn.preprocessing import StandardScaler\n",
        "from sklearn.model_selection import train_test_split\n",
        "\n",
        "%matplotlib inline"
      ]
    },
    {
      "cell_type": "code",
      "execution_count": null,
      "metadata": {
        "id": "ryOZJYQa3PG0"
      },
      "outputs": [],
      "source": [
        "random_state=5 # use this to control randomness across runs e.g., dataset partitioning"
      ]
    },
    {
      "cell_type": "markdown",
      "metadata": {
        "id": "BASGXrOy4wat"
      },
      "source": [
        "## Preparing the Glass Dataset (2 points)\n",
        "\n",
        "We will use glass dataset from UCI machine learning repository. Details for this data can be found [here](https://archive.ics.uci.edu/dataset/42/glass+identification). The objective of the dataset is to identify the class of glass based on the following features:\n",
        "\n",
        "1. RI: refractive index\n",
        "2. Na: Sodium\n",
        "3. Mg: Magnesium\n",
        "4. Al: Aluminum\n",
        "5. Si: Silica\n",
        "6. K: Potassium\n",
        "7. Ca: Calcium\n",
        "8. Ba: Barium\n",
        "9. Fe: Iron\n",
        "10. Type of glass (Target label)\n",
        "\n",
        "The classes of glass are:\n",
        "\n",
        "1. building_windows_float_processed\n",
        "2. building_windows_non_float_processed\n",
        "3. vehicle_windows_float_processed\n",
        "4. containers\n",
        "5. tableware\n",
        "6. headlamps\n",
        "\n",
        "Identification of glass from its content can be used for forensic analysis.\n"
      ]
    },
    {
      "cell_type": "markdown",
      "metadata": {
        "id": "URgO9HCN6RCl"
      },
      "source": [
        "### Load the dataset"
      ]
    },
    {
      "cell_type": "code",
      "execution_count": null,
      "metadata": {
        "id": "6Pyo8XV46UlI"
      },
      "outputs": [],
      "source": [
        "# Download and load the dataset\n",
        "import os\n",
        "if not os.path.exists('glass.csv'):\n",
        "    !wget https://raw.githubusercontent.com/JHA-Lab/ece364_2025/master/data/glass.csv\n",
        "df = pd.read_csv('glass.csv')\n",
        "# Display the first five instances in the dataset\n",
        "df.head(5)"
      ]
    },
    {
      "cell_type": "code",
      "source": [
        "# Additional features to be added to the data\n",
        "df['Ca_Na'] = df.Ca*df.Na\n",
        "df['Al_Mg'] = df.Al*df.Mg\n",
        "df['Ca_Mg'] = df.Ca*df.Mg\n",
        "df['Ca_RI'] = df.Ca*df.RI\n\n",
        "# get column names\n",
        "col_names = df.columns"
      ],
      "metadata": {
        "id": "egyIuJEsPw0i"
      },
      "execution_count": null,
      "outputs": []
    },
    {
      "cell_type": "markdown",
      "metadata": {
        "id": "j3fkLg9h782X"
      },
      "source": [
        "### Extract target and descriptive features (0.5 points)\n"
      ]
    },
    {
      "cell_type": "markdown",
      "metadata": {
        "id": "OIehnONbPjbZ"
      },
      "source": [
        "#### Separate the target and features from the data.\n",
        "\n"
      ]
    },
    {
      "cell_type": "code",
      "execution_count": null,
      "metadata": {
        "id": "blhp_Upk8E-Y"
      },
      "outputs": [],
      "source": [
        "# Store all the features from the data in X\n",
        "X = # insert your code here\n",
        "# Store all the target labels in y\n",
        "y = # insert your code here"
      ]
    },
    {
      "cell_type": "code",
      "execution_count": null,
      "metadata": {
        "id": "gdUFK3qG8Gnk"
      },
      "outputs": [],
      "source": [
        "# Convert data to numpy arrays\n",
        "X = # insert your code here\n",
        "y = # insert your code here"
      ]
    },
    {
      "cell_type": "markdown",
      "metadata": {
        "id": "N-JPYSnc8JQi"
      },
      "source": [
        "### Create training and validation datasets (0.5 points)\n",
        "\n",
        "\n",
        "Split the data into training and validation set using `train_test_split`.  See [here](https://scikit-learn.org/stable/modules/generated/sklearn.model_selection.train_test_split.html) for details. To get consistent result while splitting, set `random_state` to the value defined earlier. We use 80% of the data for training and 20% of the data for validation."
      ]
    },
    {
      "cell_type": "code",
      "execution_count": null,
      "metadata": {
        "id": "BzTzI3iT8R5x"
      },
      "outputs": [],
      "source": [
        "X_train, X_val, y_train, y_val = # insert your code here"
      ]
    },
    {
      "cell_type": "markdown",
      "metadata": {
        "id": "Hc40XakM8ZjC"
      },
      "source": [
        "### Preprocess the dataset (1 point)\n",
        "\n",
        "\n",
        "Preprocess the data by normalizing each feature to have zero mean and unit standard deviation. This can be done using the `StandardScaler()` function. See [here](https://scikit-learn.org/stable/modules/generated/sklearn.preprocessing.StandardScaler.html) for more details.\n",
        "\n"
      ]
    },
    {
      "cell_type": "code",
      "execution_count": null,
      "metadata": {
        "id": "aBcVWz4M8qi3"
      },
      "outputs": [],
      "source": [
        "# Define the scaler for scaling the data\n",
        "scaler = # insert your code here\n",
        "\n",
        "# Normalize the training data\n",
        "X_train = # insert your code here\n",
        "\n",
        "# Use the scaler defined above to standardize the validation data by applying the same transformation to the validation data.\n",
        "X_val = # insert your code here"
      ]
    },
    {
      "cell_type": "markdown",
      "metadata": {
        "id": "WxbLS0jw782b"
      },
      "source": [
        "## Training K-nearest neighbor models (18 points)\n",
        "\n",
        "We will use the `sklearn` library to train a K-nearest neighbors (kNN) classifier. Review ch.5 and see [here](https://scikit-learn.org/stable/modules/generated/sklearn.neighbors.KNeighborsClassifier.html#sklearn.neighbors.KNeighborsClassifier) for more details.\n"
      ]
    },
    {
      "cell_type": "markdown",
      "metadata": {
        "id": "TGyTnPL7782b"
      },
      "source": [
        "### Exercise 1:  Learning a kNN classifier (14 points)"
      ]
    },
    {
      "cell_type": "code",
      "execution_count": null,
      "metadata": {
        "id": "xI6DWORV782b"
      },
      "outputs": [],
      "source": [
        "from sklearn.neighbors import KNeighborsClassifier\n",
        "from sklearn.metrics import accuracy_score"
      ]
    },
    {
      "cell_type": "markdown",
      "metadata": {
        "id": "t5pv-fEL782c"
      },
      "source": [
        "#### Exercise 1a: Evaluate the effect of the number of neighbors (4 points)\n",
        "\n",
        "- Train kNN classifiers with different number of neighbors among {1, 5, 25, 100, length(X_train)}.\n",
        "\n",
        "- Keep all other parameters at their default values.  \n",
        "\n",
        "- Report the model's accuracy on the training and validation sets.\n"
      ]
    },
    {
      "cell_type": "code",
      "execution_count": null,
      "metadata": {
        "id": "qPN8M7wu782c"
      },
      "outputs": [],
      "source": [
        "# insert your code here"
      ]
    },
    {
      "cell_type": "markdown",
      "metadata": {
        "id": "AwZ44CQF782d"
      },
      "source": [
        "#### Explain the effect of increasing the number of neighbors on the performance over the training and validation sets."
      ]
    },
    {
      "cell_type": "markdown",
      "metadata": {
        "id": "s07De_gm782d"
      },
      "source": [
        "`Insert your answer.`"
      ]
    },
    {
      "cell_type": "markdown",
      "metadata": {
        "id": "sw46ibpl782d"
      },
      "source": [
        "#### Exercise 1b: Evaluate the effect of a weighted kNN (5 points)\n",
        "\n",
        "\n",
        "- Train kNN classifiers with distance-weighting and vary the  number of neighbors among {1, 5, 25, 100, length(X_train)}.\n",
        "\n",
        "\n",
        "- Keep all other parameters at their default values.  \n",
        "\n",
        "\n",
        "- Report the model's accuracy on the training and validation sets.\n"
      ]
    },
    {
      "cell_type": "code",
      "execution_count": null,
      "metadata": {
        "id": "GRAXlJue782e"
      },
      "outputs": [],
      "source": [
        "# insert your code here"
      ]
    },
    {
      "cell_type": "markdown",
      "metadata": {
        "id": "OjqXC66A782e"
      },
      "source": [
        "#### Compare the effect of the number of neighbors on model performance (train and validation) under the distance-weighted kNN against the uniformly weighted kNN. Explain any differences observed.\n"
      ]
    },
    {
      "cell_type": "markdown",
      "metadata": {
        "id": "JM9PRf_N782f"
      },
      "source": [
        "`Insert your answer.`"
      ]
    },
    {
      "cell_type": "markdown",
      "metadata": {
        "id": "o3g18uXa782f"
      },
      "source": [
        "#### Exercise 1c: Evaluate the effect of the power parameter in the Minkowski distance metric (5 points)\n",
        "\n",
        "\n",
        "- Train kNN classifiers with different distance functions by varying the power parameter for the Minkowski distance among {1, 2, 10, 100}.\n",
        "\n",
        "\n",
        "- Fix the number of neighbors to be 25, and use the uniformly-weighted kNN. Keep all other parameters at their default values.  \n",
        "\n",
        "- Report the model's accuracy over the validation set.\n"
      ]
    },
    {
      "cell_type": "code",
      "execution_count": null,
      "metadata": {
        "id": "A2K2ONam782g"
      },
      "outputs": [],
      "source": [
        "# insert your code here"
      ]
    },
    {
      "cell_type": "markdown",
      "metadata": {
        "id": "5pg6aQZo782g"
      },
      "source": [
        "#### Explain any effect observed on the model performance upon increasing the power parameter.\n"
      ]
    },
    {
      "cell_type": "markdown",
      "metadata": {
        "id": "7wslqVlA782h"
      },
      "source": [
        "`Insert your answer.`"
      ]
    },
    {
      "cell_type": "markdown",
      "metadata": {
        "id": "Bz0RWGHyOqM2"
      },
      "source": [
        "### Exercise 2: Feature Importance Analysis (4 points)\n",
        "\n",
        "In this exercise you will implement a function to calculate feature importance for KNN classifier."
      ]
    },
    {
      "cell_type": "code",
      "execution_count": null,
      "metadata": {
        "id": "xT-j-M-4OqM2"
      },
      "outputs": [],
      "source": [
        "def knn_feature_importance(X, y, n_neighbors):\n",
        "    # Split the data into training and validation sets\n",
        "    X_train, X_val, y_train, y_val = # insert your code here\n",
        "\n",
        "    # Initialize KNN classifier and feature importance array\n",
        "    knn = KNeighborsClassifier(n_neighbors=n_neighbors)\n",
        "    feature_importance = np.zeros(X.shape[1])\n",
        "\n",
        "    # Calculate baseline accuracy\n",
        "    knn.fit(X_train, y_train)\n",
        "    baseline_accuracy = accuracy_score(y_val, knn.predict(X_val))\n",
        "\n",
        "    # Calculate feature importance\n",
        "    for i in range(X.shape[1]):\n",
        "        X_train_reduced = np.delete(X_train, i, axis=1)\n",
        "\n",
        "        # insert your code here\n",
        "\n",
        "    # Normalization\n",
        "    return feature_importance / np.sum(feature_importance)\n"
      ]
    },
    {
      "cell_type": "markdown",
      "metadata": {
        "id": "WKBWkAMyOqM2"
      },
      "source": [
        "Then you can use your function to calculate the feature importance when $n_{neighbors}=5$, and you can plot or print them for better visualization."
      ]
    },
    {
      "cell_type": "code",
      "execution_count": null,
      "metadata": {
        "id": "mX94isqxOqM2"
      },
      "outputs": [],
      "source": [
        "importance = knn_feature_importance(X, y, 5)\n",
        "\n",
        "plt.figure(figsize=(10, 6))\n",
        "# insert your code here\n",
        "plt.show()"
      ]
    },
    {
      "cell_type": "markdown",
      "metadata": {
        "id": "VgdP9KlKOqM2"
      },
      "source": [
        "#### Discuss the questions:\n",
        "1. Identify the top 2 most important features for the KNN classifier. Explain why these features might be particularly important for glass prediction.\n",
        "2. What do you think about the negative values in the result?\n",
        "3. How might this information be useful for forensic scientists?"
      ]
    },
    {
      "cell_type": "markdown",
      "metadata": {
        "id": "yf2n4Zf8OqM2"
      },
      "source": [
        "`Insert your answer.`"
      ]
    }
  ],
  "metadata": {
    "colab": {
      "provenance": []
    },
    "kernelspec": {
      "display_name": "Python 3 (ipykernel)",
      "language": "python",
      "name": "python3"
    },
    "language_info": {
      "codemirror_mode": {
        "name": "ipython",
        "version": 3
      },
      "file_extension": ".py",
      "mimetype": "text/x-python",
      "name": "python",
      "nbconvert_exporter": "python",
      "pygments_lexer": "ipython3",
      "version": "3.11.9"
    },
    "nav_menu": {
      "height": "309px",
      "width": "468px"
    },
    "toc": {
      "navigate_menu": true,
      "number_sections": true,
      "sideBar": true,
      "threshold": 6,
      "toc_cell": false,
      "toc_section_display": "block",
      "toc_window_display": false
    }
  },
  "nbformat": 4,
  "nbformat_minor": 0
}
